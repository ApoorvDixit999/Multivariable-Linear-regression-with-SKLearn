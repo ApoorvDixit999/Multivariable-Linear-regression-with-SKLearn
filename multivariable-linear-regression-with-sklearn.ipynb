{
 "cells": [
  {
   "cell_type": "code",
   "execution_count": 1,
   "id": "47111641",
   "metadata": {
    "_cell_guid": "b1076dfc-b9ad-4769-8c92-a6c4dae69d19",
    "_uuid": "8f2839f25d086af736a60e9eeb907d3b93b6e0e5",
    "execution": {
     "iopub.execute_input": "2024-07-14T21:23:37.965457Z",
     "iopub.status.busy": "2024-07-14T21:23:37.964982Z",
     "iopub.status.idle": "2024-07-14T21:23:38.922841Z",
     "shell.execute_reply": "2024-07-14T21:23:38.921647Z"
    },
    "papermill": {
     "duration": 0.967044,
     "end_time": "2024-07-14T21:23:38.925778",
     "exception": false,
     "start_time": "2024-07-14T21:23:37.958734",
     "status": "completed"
    },
    "tags": []
   },
   "outputs": [
    {
     "name": "stdout",
     "output_type": "stream",
     "text": [
      "/kaggle/input/home-data-for-ml-course/sample_submission.csv\n",
      "/kaggle/input/home-data-for-ml-course/sample_submission.csv.gz\n",
      "/kaggle/input/home-data-for-ml-course/train.csv.gz\n",
      "/kaggle/input/home-data-for-ml-course/data_description.txt\n",
      "/kaggle/input/home-data-for-ml-course/test.csv.gz\n",
      "/kaggle/input/home-data-for-ml-course/train.csv\n",
      "/kaggle/input/home-data-for-ml-course/test.csv\n"
     ]
    }
   ],
   "source": [
    "# This Python 3 environment comes with many helpful analytics libraries installed\n",
    "# It is defined by the kaggle/python Docker image: https://github.com/kaggle/docker-python\n",
    "# For example, here's several helpful packages to load\n",
    "\n",
    "import numpy as np # linear algebra\n",
    "import pandas as pd # data processing, CSV file I/O (e.g. pd.read_csv)\n",
    "\n",
    "# Input data files are available in the read-only \"../input/\" directory\n",
    "# For example, running this (by clicking run or pressing Shift+Enter) will list all files under the input directory\n",
    "\n",
    "import os\n",
    "for dirname, _, filenames in os.walk('/kaggle/input'):\n",
    "    for filename in filenames:\n",
    "        print(os.path.join(dirname, filename))\n",
    "\n",
    "# You can write up to 20GB to the current directory (/kaggle/working/) that gets preserved as output when you create a version using \"Save & Run All\" \n",
    "# You can also write temporary files to /kaggle/temp/, but they won't be saved outside of the current session"
   ]
  },
  {
   "cell_type": "code",
   "execution_count": 2,
   "id": "43ff92fa",
   "metadata": {
    "execution": {
     "iopub.execute_input": "2024-07-14T21:23:38.936455Z",
     "iopub.status.busy": "2024-07-14T21:23:38.935899Z",
     "iopub.status.idle": "2024-07-14T21:23:39.017888Z",
     "shell.execute_reply": "2024-07-14T21:23:39.016649Z"
    },
    "papermill": {
     "duration": 0.089632,
     "end_time": "2024-07-14T21:23:39.020445",
     "exception": false,
     "start_time": "2024-07-14T21:23:38.930813",
     "status": "completed"
    },
    "tags": []
   },
   "outputs": [
    {
     "data": {
      "text/html": [
       "<div>\n",
       "<style scoped>\n",
       "    .dataframe tbody tr th:only-of-type {\n",
       "        vertical-align: middle;\n",
       "    }\n",
       "\n",
       "    .dataframe tbody tr th {\n",
       "        vertical-align: top;\n",
       "    }\n",
       "\n",
       "    .dataframe thead th {\n",
       "        text-align: right;\n",
       "    }\n",
       "</style>\n",
       "<table border=\"1\" class=\"dataframe\">\n",
       "  <thead>\n",
       "    <tr style=\"text-align: right;\">\n",
       "      <th></th>\n",
       "      <th>Id</th>\n",
       "      <th>MSSubClass</th>\n",
       "      <th>MSZoning</th>\n",
       "      <th>LotFrontage</th>\n",
       "      <th>LotArea</th>\n",
       "      <th>Street</th>\n",
       "      <th>Alley</th>\n",
       "      <th>LotShape</th>\n",
       "      <th>LandContour</th>\n",
       "      <th>Utilities</th>\n",
       "      <th>...</th>\n",
       "      <th>PoolArea</th>\n",
       "      <th>PoolQC</th>\n",
       "      <th>Fence</th>\n",
       "      <th>MiscFeature</th>\n",
       "      <th>MiscVal</th>\n",
       "      <th>MoSold</th>\n",
       "      <th>YrSold</th>\n",
       "      <th>SaleType</th>\n",
       "      <th>SaleCondition</th>\n",
       "      <th>SalePrice</th>\n",
       "    </tr>\n",
       "  </thead>\n",
       "  <tbody>\n",
       "    <tr>\n",
       "      <th>0</th>\n",
       "      <td>1</td>\n",
       "      <td>60</td>\n",
       "      <td>RL</td>\n",
       "      <td>65.0</td>\n",
       "      <td>8450</td>\n",
       "      <td>Pave</td>\n",
       "      <td>NaN</td>\n",
       "      <td>Reg</td>\n",
       "      <td>Lvl</td>\n",
       "      <td>AllPub</td>\n",
       "      <td>...</td>\n",
       "      <td>0</td>\n",
       "      <td>NaN</td>\n",
       "      <td>NaN</td>\n",
       "      <td>NaN</td>\n",
       "      <td>0</td>\n",
       "      <td>2</td>\n",
       "      <td>2008</td>\n",
       "      <td>WD</td>\n",
       "      <td>Normal</td>\n",
       "      <td>208500</td>\n",
       "    </tr>\n",
       "    <tr>\n",
       "      <th>1</th>\n",
       "      <td>2</td>\n",
       "      <td>20</td>\n",
       "      <td>RL</td>\n",
       "      <td>80.0</td>\n",
       "      <td>9600</td>\n",
       "      <td>Pave</td>\n",
       "      <td>NaN</td>\n",
       "      <td>Reg</td>\n",
       "      <td>Lvl</td>\n",
       "      <td>AllPub</td>\n",
       "      <td>...</td>\n",
       "      <td>0</td>\n",
       "      <td>NaN</td>\n",
       "      <td>NaN</td>\n",
       "      <td>NaN</td>\n",
       "      <td>0</td>\n",
       "      <td>5</td>\n",
       "      <td>2007</td>\n",
       "      <td>WD</td>\n",
       "      <td>Normal</td>\n",
       "      <td>181500</td>\n",
       "    </tr>\n",
       "    <tr>\n",
       "      <th>2</th>\n",
       "      <td>3</td>\n",
       "      <td>60</td>\n",
       "      <td>RL</td>\n",
       "      <td>68.0</td>\n",
       "      <td>11250</td>\n",
       "      <td>Pave</td>\n",
       "      <td>NaN</td>\n",
       "      <td>IR1</td>\n",
       "      <td>Lvl</td>\n",
       "      <td>AllPub</td>\n",
       "      <td>...</td>\n",
       "      <td>0</td>\n",
       "      <td>NaN</td>\n",
       "      <td>NaN</td>\n",
       "      <td>NaN</td>\n",
       "      <td>0</td>\n",
       "      <td>9</td>\n",
       "      <td>2008</td>\n",
       "      <td>WD</td>\n",
       "      <td>Normal</td>\n",
       "      <td>223500</td>\n",
       "    </tr>\n",
       "    <tr>\n",
       "      <th>3</th>\n",
       "      <td>4</td>\n",
       "      <td>70</td>\n",
       "      <td>RL</td>\n",
       "      <td>60.0</td>\n",
       "      <td>9550</td>\n",
       "      <td>Pave</td>\n",
       "      <td>NaN</td>\n",
       "      <td>IR1</td>\n",
       "      <td>Lvl</td>\n",
       "      <td>AllPub</td>\n",
       "      <td>...</td>\n",
       "      <td>0</td>\n",
       "      <td>NaN</td>\n",
       "      <td>NaN</td>\n",
       "      <td>NaN</td>\n",
       "      <td>0</td>\n",
       "      <td>2</td>\n",
       "      <td>2006</td>\n",
       "      <td>WD</td>\n",
       "      <td>Abnorml</td>\n",
       "      <td>140000</td>\n",
       "    </tr>\n",
       "    <tr>\n",
       "      <th>4</th>\n",
       "      <td>5</td>\n",
       "      <td>60</td>\n",
       "      <td>RL</td>\n",
       "      <td>84.0</td>\n",
       "      <td>14260</td>\n",
       "      <td>Pave</td>\n",
       "      <td>NaN</td>\n",
       "      <td>IR1</td>\n",
       "      <td>Lvl</td>\n",
       "      <td>AllPub</td>\n",
       "      <td>...</td>\n",
       "      <td>0</td>\n",
       "      <td>NaN</td>\n",
       "      <td>NaN</td>\n",
       "      <td>NaN</td>\n",
       "      <td>0</td>\n",
       "      <td>12</td>\n",
       "      <td>2008</td>\n",
       "      <td>WD</td>\n",
       "      <td>Normal</td>\n",
       "      <td>250000</td>\n",
       "    </tr>\n",
       "  </tbody>\n",
       "</table>\n",
       "<p>5 rows × 81 columns</p>\n",
       "</div>"
      ],
      "text/plain": [
       "   Id  MSSubClass MSZoning  LotFrontage  LotArea Street Alley LotShape  \\\n",
       "0   1          60       RL         65.0     8450   Pave   NaN      Reg   \n",
       "1   2          20       RL         80.0     9600   Pave   NaN      Reg   \n",
       "2   3          60       RL         68.0    11250   Pave   NaN      IR1   \n",
       "3   4          70       RL         60.0     9550   Pave   NaN      IR1   \n",
       "4   5          60       RL         84.0    14260   Pave   NaN      IR1   \n",
       "\n",
       "  LandContour Utilities  ... PoolArea PoolQC Fence MiscFeature MiscVal MoSold  \\\n",
       "0         Lvl    AllPub  ...        0    NaN   NaN         NaN       0      2   \n",
       "1         Lvl    AllPub  ...        0    NaN   NaN         NaN       0      5   \n",
       "2         Lvl    AllPub  ...        0    NaN   NaN         NaN       0      9   \n",
       "3         Lvl    AllPub  ...        0    NaN   NaN         NaN       0      2   \n",
       "4         Lvl    AllPub  ...        0    NaN   NaN         NaN       0     12   \n",
       "\n",
       "  YrSold  SaleType  SaleCondition  SalePrice  \n",
       "0   2008        WD         Normal     208500  \n",
       "1   2007        WD         Normal     181500  \n",
       "2   2008        WD         Normal     223500  \n",
       "3   2006        WD        Abnorml     140000  \n",
       "4   2008        WD         Normal     250000  \n",
       "\n",
       "[5 rows x 81 columns]"
      ]
     },
     "execution_count": 2,
     "metadata": {},
     "output_type": "execute_result"
    }
   ],
   "source": [
    "data = pd.read_csv(\"/kaggle/input/home-data-for-ml-course/train.csv\")\n",
    "data.head()"
   ]
  },
  {
   "cell_type": "code",
   "execution_count": 3,
   "id": "0c4f28db",
   "metadata": {
    "execution": {
     "iopub.execute_input": "2024-07-14T21:23:39.030390Z",
     "iopub.status.busy": "2024-07-14T21:23:39.029976Z",
     "iopub.status.idle": "2024-07-14T21:23:40.428074Z",
     "shell.execute_reply": "2024-07-14T21:23:40.426682Z"
    },
    "papermill": {
     "duration": 1.406211,
     "end_time": "2024-07-14T21:23:40.430822",
     "exception": false,
     "start_time": "2024-07-14T21:23:39.024611",
     "status": "completed"
    },
    "tags": []
   },
   "outputs": [],
   "source": [
    "#Getting the data ready (splitting the data)\n",
    "from sklearn.model_selection import train_test_split\n",
    "\n",
    "features = [\n",
    "    'MSSubClass', 'LotArea', 'OverallQual', 'OverallCond', 'YearBuilt',\n",
    "    'YearRemodAdd', '1stFlrSF', '2ndFlrSF', 'LowQualFinSF', 'GrLivArea',\n",
    "    'FullBath', 'HalfBath', 'BedroomAbvGr', 'KitchenAbvGr', 'TotRmsAbvGrd',\n",
    "    'Fireplaces', 'WoodDeckSF', 'OpenPorchSF', 'EnclosedPorch', '3SsnPorch',\n",
    "    'ScreenPorch', 'PoolArea', 'MiscVal', 'MoSold', 'YrSold'\n",
    "]\n",
    "\n",
    "y = data.SalePrice\n",
    "X = data[features]\n",
    "\n",
    "X_train, X_val, y_train, y_val = train_test_split(X, y, train_size=0.8)"
   ]
  },
  {
   "cell_type": "code",
   "execution_count": 4,
   "id": "91ae4ac3",
   "metadata": {
    "execution": {
     "iopub.execute_input": "2024-07-14T21:23:40.441137Z",
     "iopub.status.busy": "2024-07-14T21:23:40.440206Z",
     "iopub.status.idle": "2024-07-14T21:23:40.447571Z",
     "shell.execute_reply": "2024-07-14T21:23:40.446452Z"
    },
    "papermill": {
     "duration": 0.015171,
     "end_time": "2024-07-14T21:23:40.450006",
     "exception": false,
     "start_time": "2024-07-14T21:23:40.434835",
     "status": "completed"
    },
    "tags": []
   },
   "outputs": [
    {
     "data": {
      "text/plain": [
       "((1168, 25), (292, 25), (1168,), (292,))"
      ]
     },
     "execution_count": 4,
     "metadata": {},
     "output_type": "execute_result"
    }
   ],
   "source": [
    "X_train.shape, X_val.shape, y_train.shape, y_val.shape"
   ]
  },
  {
   "cell_type": "code",
   "execution_count": 5,
   "id": "b69c320b",
   "metadata": {
    "execution": {
     "iopub.execute_input": "2024-07-14T21:23:40.460194Z",
     "iopub.status.busy": "2024-07-14T21:23:40.459774Z",
     "iopub.status.idle": "2024-07-14T21:23:41.783788Z",
     "shell.execute_reply": "2024-07-14T21:23:41.782628Z"
    },
    "papermill": {
     "duration": 1.332155,
     "end_time": "2024-07-14T21:23:41.786478",
     "exception": false,
     "start_time": "2024-07-14T21:23:40.454323",
     "status": "completed"
    },
    "tags": []
   },
   "outputs": [
    {
     "data": {
      "text/plain": [
       "(806049464.4423281, 19278.057483692104)"
      ]
     },
     "execution_count": 5,
     "metadata": {},
     "output_type": "execute_result"
    }
   ],
   "source": [
    "#Making the model\n",
    "from sklearn.ensemble import RandomForestRegressor\n",
    "from sklearn.metrics import mean_squared_error, mean_absolute_error\n",
    "\n",
    "model = RandomForestRegressor(random_state = 42)\n",
    "model.fit(X_train, y_train)\n",
    "y_preds = model.predict(X_val)\n",
    "\n",
    "mse = mean_squared_error(y_preds, y_val)\n",
    "mae = mean_absolute_error(y_preds, y_val)\n",
    "mse, mae"
   ]
  },
  {
   "cell_type": "code",
   "execution_count": 6,
   "id": "35a0d3d9",
   "metadata": {
    "execution": {
     "iopub.execute_input": "2024-07-14T21:23:41.796843Z",
     "iopub.status.busy": "2024-07-14T21:23:41.796431Z",
     "iopub.status.idle": "2024-07-14T21:25:11.565765Z",
     "shell.execute_reply": "2024-07-14T21:25:11.563962Z"
    },
    "papermill": {
     "duration": 89.777469,
     "end_time": "2024-07-14T21:25:11.568319",
     "exception": false,
     "start_time": "2024-07-14T21:23:41.790850",
     "status": "completed"
    },
    "tags": []
   },
   "outputs": [
    {
     "name": "stdout",
     "output_type": "stream",
     "text": [
      "n_estimators = 50, mae = 19668.768209393347\n",
      "n_estimators = 100, mae = 19278.057483692104\n",
      "n_estimators = 150, mae = 19315.55313220265\n",
      "n_estimators = 200, mae = 19335.33135885519\n",
      "n_estimators = 250, mae = 19366.06725603392\n",
      "n_estimators = 300, mae = 19382.805388127854\n",
      "n_estimators = 350, mae = 19386.62007948933\n",
      "n_estimators = 400, mae = 19349.820364929878\n",
      "n_estimators = 450, mae = 19332.879380191345\n",
      "n_estimators = 500, mae = 19354.54588166993\n",
      "n_estimators = 550, mae = 19367.84188329479\n",
      "n_estimators = 600, mae = 19361.523996140462\n",
      "n_estimators = 650, mae = 19377.8842019168\n",
      "n_estimators = 700, mae = 19358.703593886872\n",
      "n_estimators = 750, mae = 19385.250717764735\n",
      "n_estimators = 800, mae = 19396.574911631604\n",
      "n_estimators = 850, mae = 19406.024441541\n",
      "n_estimators = 900, mae = 19394.627838878016\n",
      "n_estimators = 950, mae = 19388.44202015312\n",
      "Best n_estimators = 100\n"
     ]
    }
   ],
   "source": [
    "#Finetuning\n",
    "best_n_estimators = 0\n",
    "min_error = float('inf')\n",
    "for i in range(50, 1000, 50):\n",
    "    temp = RandomForestRegressor(n_estimators=i, random_state = 42)\n",
    "    temp.fit(X_train, y_train)\n",
    "    y_preds_temp = temp.predict(X_val)\n",
    "    mae = mean_absolute_error(y_preds_temp, y_val)\n",
    "    print(f\"n_estimators = {i}, mae = {mae}\")\n",
    "    if mae < min_error:\n",
    "        min_error = mae\n",
    "        best_n_estimators = i\n",
    "    \n",
    "print(f\"Best n_estimators = {best_n_estimators}\")\n",
    "    "
   ]
  },
  {
   "cell_type": "code",
   "execution_count": 7,
   "id": "648438af",
   "metadata": {
    "execution": {
     "iopub.execute_input": "2024-07-14T21:25:11.580961Z",
     "iopub.status.busy": "2024-07-14T21:25:11.580557Z",
     "iopub.status.idle": "2024-07-14T21:25:12.802271Z",
     "shell.execute_reply": "2024-07-14T21:25:12.801183Z"
    },
    "papermill": {
     "duration": 1.231187,
     "end_time": "2024-07-14T21:25:12.805115",
     "exception": false,
     "start_time": "2024-07-14T21:25:11.573928",
     "status": "completed"
    },
    "tags": []
   },
   "outputs": [],
   "source": [
    "#Using the best value of n_estimators and training it on the entire dataset\n",
    "test_data = pd.read_csv(\"/kaggle/input/home-data-for-ml-course/test.csv\")\n",
    "test_data\n",
    "\n",
    "X_test = test_data[features]\n",
    "model = RandomForestRegressor(n_estimators = best_n_estimators, random_state = 42)\n",
    "model.fit(X, y)\n",
    "prediction = model.predict(X_test)\n"
   ]
  },
  {
   "cell_type": "code",
   "execution_count": 8,
   "id": "285453e9",
   "metadata": {
    "execution": {
     "iopub.execute_input": "2024-07-14T21:25:12.817444Z",
     "iopub.status.busy": "2024-07-14T21:25:12.817029Z",
     "iopub.status.idle": "2024-07-14T21:25:12.852870Z",
     "shell.execute_reply": "2024-07-14T21:25:12.851693Z"
    },
    "papermill": {
     "duration": 0.044856,
     "end_time": "2024-07-14T21:25:12.855382",
     "exception": false,
     "start_time": "2024-07-14T21:25:12.810526",
     "status": "completed"
    },
    "tags": []
   },
   "outputs": [
    {
     "data": {
      "text/plain": [
       "7083.740108219178"
      ]
     },
     "execution_count": 8,
     "metadata": {},
     "output_type": "execute_result"
    }
   ],
   "source": [
    "p = model.predict(X)\n",
    "\n",
    "mae_1 = mean_absolute_error(p, y)\n",
    "mae_1"
   ]
  },
  {
   "cell_type": "code",
   "execution_count": 9,
   "id": "9717df43",
   "metadata": {
    "execution": {
     "iopub.execute_input": "2024-07-14T21:25:12.868231Z",
     "iopub.status.busy": "2024-07-14T21:25:12.867827Z",
     "iopub.status.idle": "2024-07-14T21:25:12.888553Z",
     "shell.execute_reply": "2024-07-14T21:25:12.887428Z"
    },
    "papermill": {
     "duration": 0.029744,
     "end_time": "2024-07-14T21:25:12.890799",
     "exception": false,
     "start_time": "2024-07-14T21:25:12.861055",
     "status": "completed"
    },
    "tags": []
   },
   "outputs": [
    {
     "data": {
      "text/plain": [
       "(120926810.32641293, 7330.479206621006)"
      ]
     },
     "execution_count": 9,
     "metadata": {},
     "output_type": "execute_result"
    }
   ],
   "source": [
    "#Testing the final model\n",
    "\n",
    "preds_val = model.predict(X_val)\n",
    "mse = mean_squared_error(preds_val, y_val)\n",
    "mae = mean_absolute_error(preds_val, y_val)\n",
    "mse, mae"
   ]
  },
  {
   "cell_type": "code",
   "execution_count": 10,
   "id": "8680be37",
   "metadata": {
    "execution": {
     "iopub.execute_input": "2024-07-14T21:25:12.904126Z",
     "iopub.status.busy": "2024-07-14T21:25:12.903230Z",
     "iopub.status.idle": "2024-07-14T21:25:12.915028Z",
     "shell.execute_reply": "2024-07-14T21:25:12.913975Z"
    },
    "papermill": {
     "duration": 0.021184,
     "end_time": "2024-07-14T21:25:12.917521",
     "exception": false,
     "start_time": "2024-07-14T21:25:12.896337",
     "status": "completed"
    },
    "tags": []
   },
   "outputs": [],
   "source": [
    "# Run the code to save predictions in the format used for competition scoring\n",
    "\n",
    "output = pd.DataFrame({'Id': test_data.Id,\n",
    "                       'SalePrice': prediction})\n",
    "output.to_csv('submission.csv', index=False)"
   ]
  },
  {
   "cell_type": "code",
   "execution_count": null,
   "id": "1f5c093e",
   "metadata": {
    "papermill": {
     "duration": 0.005223,
     "end_time": "2024-07-14T21:25:12.928447",
     "exception": false,
     "start_time": "2024-07-14T21:25:12.923224",
     "status": "completed"
    },
    "tags": []
   },
   "outputs": [],
   "source": []
  }
 ],
 "metadata": {
  "kaggle": {
   "accelerator": "none",
   "dataSources": [
    {
     "databundleVersionId": 111096,
     "sourceId": 10211,
     "sourceType": "competition"
    }
   ],
   "dockerImageVersionId": 30746,
   "isGpuEnabled": false,
   "isInternetEnabled": true,
   "language": "python",
   "sourceType": "notebook"
  },
  "kernelspec": {
   "display_name": "Python 3",
   "language": "python",
   "name": "python3"
  },
  "language_info": {
   "codemirror_mode": {
    "name": "ipython",
    "version": 3
   },
   "file_extension": ".py",
   "mimetype": "text/x-python",
   "name": "python",
   "nbconvert_exporter": "python",
   "pygments_lexer": "ipython3",
   "version": "3.10.13"
  },
  "papermill": {
   "default_parameters": {},
   "duration": 98.476678,
   "end_time": "2024-07-14T21:25:13.556495",
   "environment_variables": {},
   "exception": null,
   "input_path": "__notebook__.ipynb",
   "output_path": "__notebook__.ipynb",
   "parameters": {},
   "start_time": "2024-07-14T21:23:35.079817",
   "version": "2.5.0"
  }
 },
 "nbformat": 4,
 "nbformat_minor": 5
}
